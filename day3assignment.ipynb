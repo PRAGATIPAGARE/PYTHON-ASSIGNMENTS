{
  "nbformat": 4,
  "nbformat_minor": 0,
  "metadata": {
    "colab": {
      "name": "day3assignment.ipynb",
      "provenance": []
    },
    "kernelspec": {
      "name": "python3",
      "display_name": "Python 3"
    },
    "language_info": {
      "name": "python"
    }
  },
  "cells": [
    {
      "cell_type": "code",
      "execution_count": 1,
      "metadata": {
        "colab": {
          "base_uri": "https://localhost:8080/"
        },
        "id": "R_LHSsKp7CNW",
        "outputId": "7bc3282c-e3c6-450e-825d-aa05fd619c52"
      },
      "outputs": [
        {
          "output_type": "stream",
          "name": "stdout",
          "text": [
            "BreakingBad\n"
          ]
        }
      ],
      "source": [
        "# question: From a dict, how can we print the Key whose value is maximum ??\n",
        "\n",
        "\n",
        "Tv = {'BreakingBad':100, 'GameOfThrones':12, 'mirzapur' : 88}\n",
        " \n",
        "Keymax = max(Tv, key= lambda x: Tv[x])\n",
        "print(Keymax)"
      ]
    }
  ]
}